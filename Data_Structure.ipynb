{
 "cells": [
  {
   "cell_type": "code",
   "execution_count": null,
   "id": "e6f36026",
   "metadata": {},
   "outputs": [],
   "source": [
    "'''\n",
    "1. What are data structures, and why are they important?\n",
    "    ->Data structures are specialized formats used to organize, store, and manage data in a computer so it can be accessed and modified efficiently.\n",
    "        Some below points show that the importance of data structure:- \n",
    "        Efficiency:\n",
    "        Choosing the right data structure helps your program run faster and use memory better.\n",
    "        Code Simplicity:\n",
    "        Proper structures make complex problems easier to implement and debug.\n",
    "        Algorithm Optimization:\n",
    "        Many algorithms (like searching, sorting, and traversing) depend on how data is structured.\n",
    "        Real-world Modeling:\n",
    "        Data structures help model real-world entities (e.g., a graph for cities and roads).\n",
    "        Foundation of Software Engineering:\n",
    "        All major software and systems use data structures (e.g., databases use trees and hashes).\n",
    "        \n",
    "\n",
    "2. Explain the difference between mutable and immutable data types with examples.\n",
    "    ->Mutable data types means which is changeable and immutable data types which can not be changed.\n",
    "        Mutable data types are list, dictionary, set.\n",
    "        Immutable data types are string, tuple, int.\n",
    "        Example:- Mutable Data Type\n",
    "        my_list = [1, 2, 3]\n",
    "        my_list.append(4)\n",
    "        print(my_list)  # Output: [1, 2, 3, 4]\n",
    "        \n",
    "        Example:- Immutable Data Type\n",
    "            name = \"Amod\"\n",
    "            name[0] = \"S\"  # Trying to change the first letter it will throw an error because strings are immutable.\n",
    "            \n",
    "\n",
    "3.What are the main differences between lists and tuples in Python?\n",
    "    ->A list can be changed after it is created — you can add, remove, or update items.\n",
    "        A tuple cannot be changed — once it is created, you cannot modify it.\n",
    "        \n",
    "        Tuples are a little faster than lists because they are fixed and simpler.\n",
    "        Lists are slower since they allow changes and have more features.\n",
    "        \n",
    "        Use a list when your data will change (like a shopping cart).\n",
    "        Use a tuple when your data should stay the same (like days of the week).\n",
    "        \n",
    "        Tuples use a bit less memory than lists.\n",
    "        \n",
    "\n",
    "4.Describe how dictionaries store data.\n",
    "    ->Dictionaries store the data in the form of key value pair.\n",
    "    Keys must be unique and immutable (like strings, numbers, or tuples).\n",
    "    Values can be anything — strings, numbers, lists, even other dictionaries.\n",
    "    Example:-\n",
    "    person = {\n",
    "    \"name\": \"Amod\",\n",
    "    \"age\": 23,\n",
    "    \"city\": \"Delhi\"\n",
    "}\n",
    "\n",
    "\n",
    "5.Why might you use a set instead of a list in Python?\n",
    "    ->To Remove Duplicates:\n",
    "        A set automatically removes duplicate values.\n",
    "        \n",
    "        For Faster Searches:\n",
    "        Checking if an item is in a set is much faster than in a list, especially with large data.\n",
    "        \n",
    "        To Use Set Operations:\n",
    "        Sets let you do math-like operations like union, intersection, and difference.\n",
    "        \n",
    "\n",
    "6.What is a string in Python, and how is it different from a list?\n",
    "    ->A string is a sequence of characters (letters, numbers, symbols) inside quotes.\n",
    "       \n",
    "       A string holds only characters (text).\n",
    "       A list can hold any type of data: numbers, strings, other lists, etc.\n",
    "       \n",
    "       Strings are immutable — you can’t change them after creating.\n",
    "       Lists are mutable — you can change their contents.\n",
    "       \n",
    "       Use strings to store text.\n",
    "       Use lists to store a group of items, even mixed types.\n",
    "       Syntax:-\n",
    "       Strings use quotes: \"hello\" or 'hello'\n",
    "       Lists use square brackets: [\"h\", \"e\", \"l\", \"l\", \"o\"]\n",
    "       \n",
    "\n",
    "7.How do tuples ensure data integrity in Python?\n",
    "    ->Data integrity means making sure that data is not changed or tampered with when it shouldn't be.\n",
    "        Tuples can't be changed, so they protect your data.\n",
    "        They are useful when you want to lock your data and keep it safe from changes.\n",
    "        This is how tuples help ensure data integrity in Python.\n",
    "        \n",
    "\n",
    "8.What is a hash table, and how does it relate to dictionaries in Python?\n",
    "    ->A hash table is a special data structure that stores data in key-value pairs, just like a real dictionary.\n",
    "        It uses a process called hashing:\n",
    "        A hash function turns a key (like \"name\") into a number (called a hash code).\n",
    "        This number tells the program where to store or find the value in memory — fast and efficient!\n",
    "        \n",
    "        In Python, a dictionary is built using a hash table behind the scenes.\n",
    "        So when you do something like:\n",
    "        person = {\"name\": \"Amod\", \"age\": 25}\n",
    "        print(person[\"name\"])\n",
    "        \n",
    "        Here’s what happens:\n",
    "\n",
    "        Python uses the key \"name\" and runs it through a hash function.\n",
    "        That gives a unique number (hash code).\n",
    "        Python uses that number to quickly find the value \"Amod\" in memory.\n",
    "        This is why lookup in a dictionary is very fast, even with lots of data.\n",
    "        \n",
    "\n",
    "9.Can lists contain different data types in Python?\n",
    "    ->Yes,In Python, lists can contain different data types.\n",
    "        Python lists are flexible because Python is a dynamically typed language — you don't need to declare types, and items in a list can be of any type.\n",
    "        example:-\n",
    "        my_list = [10, \"hello\", 3.14, True, [1, 2, 3]]\n",
    "\n",
    "\n",
    "10. Explain why strings are immutable in Python.\n",
    "    ->Support string interning for memory efficiency.\n",
    "        Allow strings to be used as keys in dictionaries,strings are immutable, their hash value remains constant, making them reliable dictionary keys.\n",
    "        Ensure thread safety and program stability.\n",
    "        Avoid unintended side effects from changing shared data.\n",
    "        This design choice makes Python safer, faster, and more reliable.\n",
    "        \n",
    "\n",
    "11.What advantages do dictionaries offer over lists for certain tasks?\n",
    "    ->Advantages of Dictionaries Over Lists:\n",
    "        Fast Lookups by Key:-\n",
    "          Dictionaries let you find values quickly using a key.\n",
    "          In a list, you must search through each item until you find what you want.\n",
    "          Ex:-\n",
    "          # Using a list\n",
    "            students = [\"Amod\", \"Rahul\", \"Sara\"]\n",
    "            print(students.index(\"Sara\"))  # Slower for large lists\n",
    "\n",
    "            # Using a dictionary\n",
    "            marks = {\"Amod\": 90, \"Rahul\": 85, \"Sara\": 95}\n",
    "            print(marks[\"Sara\"])  # Fast and direct\n",
    "        \n",
    "        Key-Value Pairs for Structured Data:-\n",
    "            Dictionaries store data in pairs, which makes data more meaningful and organized.\n",
    "            Lists just store values by position.\n",
    "            Ex:-\n",
    "            # Using a list\n",
    "            person = [\"Amod\", 25, \"Delhi\"]  # What does each item mean?\n",
    "\n",
    "            # Using a dictionary\n",
    "            person = {\"name\": \"Amod\", \"age\": 25, \"city\": \"Delhi\"}  # Clear and readable\n",
    "\n",
    "        No Need to Remember Index Positions:-\n",
    "          In a list, you need to know the index to get data.\n",
    "          In a dictionary, you just use a descriptive key, like \"name\" or \"age\".\n",
    "        \n",
    "        Prevents Duplicate Keys:-\n",
    "          A dictionary automatically prevents duplicate keys, helping to avoid errors.\n",
    "          A list can have the same value many times — which might not be helpful in some cases.\n",
    "          \n",
    "         Flexible Data Mapping:-\n",
    "            Dictionaries are great for mapping one piece of data to another.\n",
    "            For example: mapping usernames to passwords, or product names to prices.\n",
    "\n",
    "\n",
    "12.Describe a scenario where using a tuple would be preferable over a list.\n",
    "    ->Use Case: Storing GPS Coordinates\n",
    "    location = (28.6139, 77.2090)  # (latitude, longitude)\n",
    "        The data should not change\n",
    "        Latitude and longitude are fixed for a place — they shouldn’t be accidentally modified.\n",
    "        Tuples are immutable, so they protect the data.\n",
    "\n",
    "        It’s a fixed-size collection\n",
    "        You know there will always be exactly two values: (latitude, longitude).\n",
    "        Tuples are ideal for fixed-length, fixed-meaning data.\n",
    "\n",
    "        Performance is better\n",
    "        Tuples are slightly faster and use less memory than lists.\n",
    "        This matters when you have many coordinates.\n",
    "        \n",
    "        Comparison:\n",
    "\n",
    "        # Good: using tuple for fixed data\n",
    "        location = (28.6139, 77.2090)\n",
    "\n",
    "        # Not ideal: using list for the same thing\n",
    "        location = [28.6139, 77.2090]  # Can be changed accidentally\n",
    "        \n",
    "        \n",
    "13.How do sets handle duplicate values in Python?\n",
    "    -> Sets automatically remove duplicates.\n",
    "        \n",
    "       When you create a set, Python only keeps unique values.\n",
    "        \n",
    "       Sets are designed to represent a collection of unique items.\n",
    "        \n",
    "       Behind the scenes, sets use a hash table, which does not allow duplicate keys (similar to dictionaries).\n",
    "       \n",
    "       Example:my_set = {1, 2, 3, 2, 4, 1}\n",
    "               print(my_set)\n",
    "               \n",
    "               Output:{1, 2, 3, 4}\n",
    "\n",
    "\n",
    "14.How does the “in” keyword work differently for lists and dictionaries?\n",
    "    ->The in keyword is used to check if something exists in a collection, like a list or a dictionary.\n",
    "        But it behaves differently depending on the data type.\n",
    "        \n",
    "        =>in with Lists\n",
    "            When used with a list, in checks if the value is in the list.\n",
    "          \n",
    "          Example:\n",
    "            my_list = [10, 20, 30]\n",
    "            print(20 in my_list)   # True\n",
    "            print(40 in my_list)   # False\n",
    "            \n",
    "            It looks through the items in the list.\n",
    "            It checks values directly.\n",
    "\n",
    "        => in with Dictionaries\n",
    "            When used with a dictionary, in checks if the key is present — not the value.\n",
    "            \n",
    "            my_dict = {\"name\": \"Amod\", \"age\": 25}\n",
    "            print(\"name\" in my_dict)    # True (key)\n",
    "            print(\"Amod\" in my_dict)    # False (value, not key)\n",
    "            \n",
    "            It does not search values unless you do so explicitly:\n",
    "            \n",
    "            print(\"Amod\" in my_dict.values())  # True\n",
    "            \n",
    "            \n",
    "15. Can you modify the elements of a tuple? Explain why or why not.\n",
    "    ->Tuples are immutable, which means:\n",
    "        Once a tuple is created, its elements cannot be changed, added, or removed.\n",
    "        This is by design to make the data inside a tuple safe and fixed.\n",
    "        Ex:-\n",
    "        my_tuple = (10, 20, 30)\n",
    "        my_tuple[1] = 99  # This will raise a TypeError\n",
    "        \n",
    "        Output:TypeError: 'tuple' object does not support item assignment\n",
    "\n",
    "\n",
    "        \n",
    "        But,Tuples can contain mutable elements (like lists), and those inner objects can be changed, but the tuple’s structure still stays the same.\n",
    "        \n",
    "        my_tuple = (1, [2, 3], 4)\n",
    "        my_tuple[1][0] = 99\n",
    "        print(my_tuple)  # Output: (1, [99, 3], 4)\n",
    "\n",
    "        The list inside the tuple was changed.\n",
    "        But you can’t replace the list itself or change the number of items in the tuple.\n",
    "\n",
    "        You cannot modify tuple elements directly.\n",
    "        Tuples are immutable to ensure data integrity, safety, and consistency.\n",
    "        If a tuple contains mutable objects (like lists), those objects can still be changed.\n",
    "        \n",
    "16.What is a nested dictionary, and give an example of its use case?\n",
    "    ->A nested dictionary is a dictionary that contains another dictionary as a value.\n",
    "        This allows you to store more complex and structured data.\n",
    "        \n",
    "        Example:\n",
    "                students = {\n",
    "            \"student1\": {\n",
    "                \"name\": \"Amod\",\n",
    "                \"age\": 20,\n",
    "                \"marks\": {\"math\": 90, \"science\": 85}\n",
    "            },\n",
    "            \"student2\": {\n",
    "                \"name\": \"Sara\",\n",
    "                \"age\": 21,\n",
    "                \"marks\": {\"math\": 88, \"science\": 92}\n",
    "            }\n",
    "        }\n",
    "    #Accessing the data:-\n",
    "    print(students[\"student2\"][\"marks\"][\"math\"])  # Output: 88\n",
    "    \n",
    "    \n",
    "17.Describe the time complexity of accessing elements in a dictionary.\n",
    "    ->Time Complexity of Accessing Elements in a Dictionary in Python:\n",
    "        Accessing an element in a dictionary has an average-case time complexity of:\n",
    "    \n",
    "        O(1) — constant time\n",
    "        \n",
    "        Python dictionaries are implemented using a hash table.\n",
    "        When you use a key to access a value (like my_dict[\"name\"]), Python:\n",
    "        Computes the hash of the key.\n",
    "        Uses that hash to find the location in memory.\n",
    "        This lookup is very fast and does not depend on the number of items.\n",
    "        \n",
    "        Worst Case is O(n)\n",
    "        In rare cases (like many hash collisions), accessing a key can degrade to:\n",
    "        O(n) — linear time\n",
    "        But Python handles collisions efficiently, so this is uncommon in practice.\n",
    "        \n",
    "        Ex:-\n",
    "        my_dict = {\"name\": \"Amod\", \"age\": 25, \"city\": \"Delhi\"}\n",
    "        print(my_dict[\"city\"])  # O(1) access\n",
    "        \n",
    "        So, dictionaries are great when you need fast lookups by key.\n",
    "        \n",
    "\n",
    "18.In what situations are lists preferred over dictionaries?\n",
    "    ->1. Order Matters\n",
    "        Lists maintain the order of elements by default.\n",
    "        If you care about the sequence of items, use a list.\n",
    "        \n",
    "      2. Index-Based Access is Needed\n",
    "        If you need to access items by their position (index), lists are more natural.\n",
    "\n",
    "      3. Data Doesn’t Need Labels\n",
    "        If you're just storing a simple collection of items (like numbers or names), and don’t need to label them, a list is simpler.\n",
    "\n",
    "      4. Duplicates Are Allowed\n",
    "        Lists allow duplicate values, while dictionaries do not allow duplicate keys.\n",
    "\n",
    "      5. You Want to Sort the Data\n",
    "        Lists can be sorted easily, either in place or using the sorted() function.\n",
    "\n",
    "      6. Iterating Through All Items\n",
    "        If you need to loop through all items in order, lists are simple and efficient.\n",
    "        \n",
    "    \n",
    "19.Why are dictionaries considered unordered, and how does that affect data retrieval?\n",
    "    ->Dictionaries are unordered by design because they're built for fast key lookup, not for ordered data access.\n",
    "\n",
    "        Since Python 3.7, they preserve insertion order, but you still shouldn’t rely on them for order-sensitive tasks.\n",
    "\n",
    "        If you need ordered data and position-based access, use a list instead.\n",
    "        \n",
    "        How This Affects Data Retrieval:\n",
    "        1.Access by key is very fast (O(1)) and not affected by order:\n",
    "            my_dict = {\"name\": \"Amod\", \"age\": 25}\n",
    "            print(my_dict[\"name\"])  # Always works, order doesn't matter\n",
    "        \n",
    "        2.You can’t reliably access items by position like you do in a list:\n",
    "            my_dict[0]  #  This will raise a TypeError\n",
    "            \n",
    "        3. Looping over items keeps their original order (in Python 3.7+):\n",
    "            for key in my_dict:\n",
    "            print(key)  # Order is preserved\n",
    "            \n",
    "20. Explain the difference between a list and a dictionary in terms of data retrieval.\n",
    "    -> List – Retrieval by Index\n",
    "        A list stores items in a specific order.\n",
    "\n",
    "        You retrieve data using a numeric index (starting from 0).\n",
    "        Ex:\n",
    "        fruits = [\"apple\", \"banana\", \"orange\"]\n",
    "        print(fruits[1])  # Output: banana\n",
    "        \n",
    "        You have to know the position of the item to access it.\n",
    "\n",
    "        Retrieval time is fast — about O(1) (constant time) for getting an item by index.\n",
    "        \n",
    "        =>Dictionary – Retrieval by Key\n",
    "            A dictionary stores data as key-value pairs.\n",
    "\n",
    "            You retrieve data using the key, not a position.\n",
    "            Ex:-\n",
    "            person = {\"name\": \"Amod\", \"age\": 25}\n",
    "            print(person[\"name\"])  # Output: Amod\n",
    "            \n",
    "            You don’t need to remember the position — just use the key.\n",
    "\n",
    "            Dictionary lookups are also O(1) on average — very fast.\n",
    "\n",
    "\n",
    "\n",
    "\n",
    "\n",
    "'''"
   ]
  },
  {
   "cell_type": "code",
   "execution_count": 9,
   "id": "d7fde9d8",
   "metadata": {},
   "outputs": [
    {
     "name": "stdout",
     "output_type": "stream",
     "text": [
      "Amod\n"
     ]
    }
   ],
   "source": [
    "#PRACTICAL QUESTIONS\n",
    "# 1.Write a code to create a string with your name and print it.\n",
    "name=\"Amod\"\n",
    "print(name)"
   ]
  },
  {
   "cell_type": "code",
   "execution_count": 10,
   "id": "a40370bd",
   "metadata": {},
   "outputs": [
    {
     "name": "stdout",
     "output_type": "stream",
     "text": [
      "11\n"
     ]
    }
   ],
   "source": [
    "# 2.Write a code to find the length of the string \"Hello World\".\n",
    "str = \"Hello World\"\n",
    "print((len(str)))"
   ]
  },
  {
   "cell_type": "code",
   "execution_count": 15,
   "id": "b82df05f",
   "metadata": {},
   "outputs": [
    {
     "name": "stdout",
     "output_type": "stream",
     "text": [
      "Pyt\n"
     ]
    }
   ],
   "source": [
    "#3.Write a code to slice the first 3 characters from the string \"Python Programming\".\n",
    "str = \"Python Programming\"\n",
    "print(str[0:3])"
   ]
  },
  {
   "cell_type": "code",
   "execution_count": 19,
   "id": "dd427daa",
   "metadata": {},
   "outputs": [
    {
     "name": "stdout",
     "output_type": "stream",
     "text": [
      "HELLO\n"
     ]
    }
   ],
   "source": [
    "#4.Write a code to convert the string \"hello\" to uppercase.\n",
    "str =\"hello\"\n",
    "print(str.upper())"
   ]
  },
  {
   "cell_type": "code",
   "execution_count": 27,
   "id": "08df257f",
   "metadata": {},
   "outputs": [
    {
     "name": "stdout",
     "output_type": "stream",
     "text": [
      "I like orange\n"
     ]
    }
   ],
   "source": [
    "#5.Write a code to replace the word \"apple\" with \"orange\" in the string \"I like apple\".\n",
    "fruits = \"I like apple\"\n",
    "new_fruits = fruits.replace(\"apple\",\"orange\")\n",
    "print(new_fruits)"
   ]
  },
  {
   "cell_type": "code",
   "execution_count": 28,
   "id": "b34df393",
   "metadata": {},
   "outputs": [
    {
     "name": "stdout",
     "output_type": "stream",
     "text": [
      "[1, 2, 3, 4, 5]\n"
     ]
    }
   ],
   "source": [
    "#6.Write a code to create a list with numbers 1 to 5 and print it.\n",
    "numbers = [1, 2, 3, 4, 5]\n",
    "print(numbers)"
   ]
  },
  {
   "cell_type": "code",
   "execution_count": 29,
   "id": "5ea08ccb",
   "metadata": {},
   "outputs": [
    {
     "name": "stdout",
     "output_type": "stream",
     "text": [
      "[1, 2, 3, 4, 10]\n"
     ]
    }
   ],
   "source": [
    "#7.Write a code to append the number 10 to the list [1, 2, 3, 4].\n",
    "numbers = [1,2,3,4]\n",
    "numbers.append(10)\n",
    "print(numbers)"
   ]
  },
  {
   "cell_type": "code",
   "execution_count": 30,
   "id": "a498609b",
   "metadata": {},
   "outputs": [
    {
     "name": "stdout",
     "output_type": "stream",
     "text": [
      "[1, 2, 4, 5]\n"
     ]
    }
   ],
   "source": [
    "#8.Write a code to remove the number 3 from the list [1, 2, 3, 4, 5].\n",
    "numbers = [1,2,3,4,5]\n",
    "numbers.remove(3)\n",
    "print(numbers)"
   ]
  },
  {
   "cell_type": "code",
   "execution_count": 31,
   "id": "8c34f70e",
   "metadata": {},
   "outputs": [
    {
     "name": "stdout",
     "output_type": "stream",
     "text": [
      "b\n"
     ]
    }
   ],
   "source": [
    "#9.Write a code to access the second element in the list ['a', 'b', 'c', 'd'].\n",
    "li = ['a','b','c','d']\n",
    "print(li[1])"
   ]
  },
  {
   "cell_type": "code",
   "execution_count": 32,
   "id": "7e6a1efa",
   "metadata": {},
   "outputs": [
    {
     "name": "stdout",
     "output_type": "stream",
     "text": [
      "[50, 40, 30, 20, 10]\n"
     ]
    }
   ],
   "source": [
    "#10. Write a code to reverse the list [10, 20, 30, 40, 50].\n",
    "numbers = [10, 20, 30, 40, 50]\n",
    "numbers.reverse()\n",
    "print(numbers)"
   ]
  },
  {
   "cell_type": "code",
   "execution_count": 34,
   "id": "612355c4",
   "metadata": {},
   "outputs": [
    {
     "name": "stdout",
     "output_type": "stream",
     "text": [
      "(100, 200, 300)\n"
     ]
    }
   ],
   "source": [
    "#11. Write a code to create a tuple with the elements 100, 200, 300 and print it.\n",
    "tup = (100,200,300)\n",
    "print(tup)"
   ]
  },
  {
   "cell_type": "code",
   "execution_count": 35,
   "id": "72441a6b",
   "metadata": {},
   "outputs": [
    {
     "name": "stdout",
     "output_type": "stream",
     "text": [
      "blue\n"
     ]
    }
   ],
   "source": [
    "#12. Write a code to access the second-to-last element of the tuple ('red', 'green', 'blue', 'yellow').\n",
    "colors = ('red', 'green', 'blue', 'yellow')\n",
    "second_last = colors[-2]\n",
    "print(second_last)"
   ]
  },
  {
   "cell_type": "code",
   "execution_count": 36,
   "id": "0eaae4f4",
   "metadata": {},
   "outputs": [
    {
     "name": "stdout",
     "output_type": "stream",
     "text": [
      "5\n"
     ]
    }
   ],
   "source": [
    "#13. Write a code to find the minimum number in the tuple (10, 20, 5, 15).\n",
    "numbers = (10, 20, 5, 15)\n",
    "min_value = min(numbers)\n",
    "print(min_value)"
   ]
  },
  {
   "cell_type": "code",
   "execution_count": 37,
   "id": "4b2d1521",
   "metadata": {},
   "outputs": [
    {
     "name": "stdout",
     "output_type": "stream",
     "text": [
      "1\n"
     ]
    }
   ],
   "source": [
    "#14.Write a code to find the index of the element \"cat\" in the tuple ('dog', 'cat', 'rabbit').\n",
    "animals = ('dog', 'cat', 'rabbit')\n",
    "index_of_cat = animals.index('cat')\n",
    "print(index_of_cat)"
   ]
  },
  {
   "cell_type": "code",
   "execution_count": 39,
   "id": "b6ab96a0",
   "metadata": {},
   "outputs": [
    {
     "name": "stdout",
     "output_type": "stream",
     "text": [
      "Kiwi is in the tuple.\n"
     ]
    }
   ],
   "source": [
    "#15. Write a code to create a tuple containing three different fruits and check if \"kiwi\" is in it.\n",
    "fruits_check = (\"apple\", \"kiwi\", \"mango\")\n",
    "if \"kiwi\" in fruits_check:\n",
    "    print(\"Kiwi is in the tuple.\")\n",
    "else:\n",
    "    print(\"Kiwi is not in the tuple.\")"
   ]
  },
  {
   "cell_type": "code",
   "execution_count": 42,
   "id": "90a7af9b",
   "metadata": {},
   "outputs": [
    {
     "name": "stdout",
     "output_type": "stream",
     "text": [
      "{'a', 'b', 'c'}\n"
     ]
    }
   ],
   "source": [
    "#16.Write a code to create a set with the elements 'a', 'b', 'c' and print it.\n",
    "ele = {'a','b','c'}\n",
    "print(ele)"
   ]
  },
  {
   "cell_type": "code",
   "execution_count": 44,
   "id": "63d82d56",
   "metadata": {},
   "outputs": [
    {
     "name": "stdout",
     "output_type": "stream",
     "text": [
      "set()\n"
     ]
    }
   ],
   "source": [
    "#17.Write a code to clear all elements from the set {1, 2, 3, 4, 5}.\n",
    "ele = {1,2,3,4,5}\n",
    "ele.clear()\n",
    "print(ele)"
   ]
  },
  {
   "cell_type": "code",
   "execution_count": 49,
   "id": "676d7ac1",
   "metadata": {},
   "outputs": [
    {
     "name": "stdout",
     "output_type": "stream",
     "text": [
      "{1, 2, 3}\n"
     ]
    }
   ],
   "source": [
    "#18. Write a code to remove the element 4 from the set {1, 2, 3, 4}.\n",
    "ele = {1,2,3,4}\n",
    "ele.remove(4)\n",
    "print(ele)"
   ]
  },
  {
   "cell_type": "code",
   "execution_count": 51,
   "id": "306d4289",
   "metadata": {},
   "outputs": [
    {
     "name": "stdout",
     "output_type": "stream",
     "text": [
      "{1, 2, 3, 4, 5}\n"
     ]
    }
   ],
   "source": [
    "#19. Write a code to find the union of two sets {1, 2, 3} and {3, 4, 5}.\n",
    "a = {1,2,3}\n",
    "b = {3,4,5}\n",
    "z = a.union(b)\n",
    "print(z)"
   ]
  },
  {
   "cell_type": "code",
   "execution_count": 52,
   "id": "81347cbd",
   "metadata": {},
   "outputs": [
    {
     "name": "stdout",
     "output_type": "stream",
     "text": [
      "{2, 3}\n"
     ]
    }
   ],
   "source": [
    "#20. Write a code to find the intersection of two sets {1, 2, 3} and {2, 3, 4}.\n",
    "set1 = {1, 2, 3}\n",
    "set2 = {2, 3, 4}\n",
    "\n",
    "intersection = set1 & set2\n",
    "print(intersection)"
   ]
  },
  {
   "cell_type": "code",
   "execution_count": 53,
   "id": "57ebdd0a",
   "metadata": {},
   "outputs": [
    {
     "name": "stdout",
     "output_type": "stream",
     "text": [
      "{'name': 'Amod', 'age': '23', 'city': 'Delhi'}\n"
     ]
    }
   ],
   "source": [
    "#21.Write a code to create a dictionary with the keys \"name\", \"age\", and \"city\", and print it.\n",
    "details = {\"name\":\"Amod\",\"age\":\"23\",\"city\":\"Delhi\"}\n",
    "print(details)"
   ]
  },
  {
   "cell_type": "code",
   "execution_count": 54,
   "id": "ffc51e43",
   "metadata": {},
   "outputs": [
    {
     "name": "stdout",
     "output_type": "stream",
     "text": [
      "{'name': 'John', 'age': 25, 'country': 'USA'}\n"
     ]
    }
   ],
   "source": [
    "#22.Write a code to add a new key-value pair \"country\": \"USA\" to the dictionary {'name': 'John', 'age': 25}.\n",
    "person = {'name': 'John', 'age': 25}\n",
    "person['country'] = 'USA'\n",
    "print(person)"
   ]
  },
  {
   "cell_type": "code",
   "execution_count": 55,
   "id": "e85924e4",
   "metadata": {},
   "outputs": [
    {
     "name": "stdout",
     "output_type": "stream",
     "text": [
      "Alice\n"
     ]
    }
   ],
   "source": [
    "#23.Write a code to access the value associated with the key \"name\" in the dictionary {'name': 'Alice', 'age': 30}.\n",
    "person = {'name': 'Alice', 'age': 30}\n",
    "\n",
    "name_value = person['name']\n",
    "\n",
    "print(name_value)"
   ]
  },
  {
   "cell_type": "code",
   "execution_count": 56,
   "id": "9286e84a",
   "metadata": {},
   "outputs": [
    {
     "name": "stdout",
     "output_type": "stream",
     "text": [
      "{'name': 'Bob', 'city': 'New York'}\n"
     ]
    }
   ],
   "source": [
    "#24.Write a code to remove the key \"age\" from the dictionary {'name': 'Bob', 'age': 22, 'city': 'New York'}.\n",
    "person = {'name': 'Bob', 'age': 22, 'city': 'New York'}\n",
    "\n",
    "del person['age']\n",
    "\n",
    "print(person)"
   ]
  },
  {
   "cell_type": "code",
   "execution_count": 57,
   "id": "51951822",
   "metadata": {},
   "outputs": [
    {
     "name": "stdout",
     "output_type": "stream",
     "text": [
      "Key 'city' exists in the dictionary.\n"
     ]
    }
   ],
   "source": [
    "#25.Write a code to check if the key \"city\" exists in the dictionary {'name': 'Alice', 'city': 'Paris'}.\n",
    "person = {'name': 'Alice', 'city': 'Paris'}\n",
    "if 'city' in person:\n",
    "    print(\"Key 'city' exists in the dictionary.\")\n",
    "else:\n",
    "    print(\"Key 'city' does not exist in the dictionary.\")"
   ]
  },
  {
   "cell_type": "code",
   "execution_count": 58,
   "id": "e0fa4c6b",
   "metadata": {},
   "outputs": [
    {
     "name": "stdout",
     "output_type": "stream",
     "text": [
      "List: [1, 2, 3, 4, 5]\n",
      "Tuple: ('apple', 'banana', 'cherry')\n",
      "Dictionary: {'name': 'Alice', 'age': 30}\n"
     ]
    }
   ],
   "source": [
    "#26.Write a code to create a list, a tuple, and a dictionary, and print them all.\n",
    "# Create a list\n",
    "my_list = [1, 2, 3, 4, 5]\n",
    "\n",
    "# Create a tuple\n",
    "my_tuple = ('apple', 'banana', 'cherry')\n",
    "\n",
    "# Create a dictionary\n",
    "my_dict = {'name': 'Alice', 'age': 30}\n",
    "\n",
    "# Printing\n",
    "print(\"List:\", my_list)\n",
    "print(\"Tuple:\", my_tuple)\n",
    "print(\"Dictionary:\", my_dict)"
   ]
  },
  {
   "cell_type": "code",
   "execution_count": 59,
   "id": "62da9283",
   "metadata": {},
   "outputs": [
    {
     "name": "stdout",
     "output_type": "stream",
     "text": [
      "[12, 23, 45, 67, 88]\n"
     ]
    }
   ],
   "source": [
    "#27.Write a code to create a list of 5 random numbers between 1 and 100, sort it in ascending order, and print the result.(replaced)\n",
    "# Create a list of 5 numbers\n",
    "numbers = [45, 12, 88, 23, 67]\n",
    "\n",
    "# Sort the list\n",
    "numbers.sort()\n",
    "\n",
    "# Print the result\n",
    "print(numbers)\n",
    "\n",
    "#second way using import random \n",
    "# import random\n",
    "\n",
    "# random_numbers = [random.randint(1, 100) for _ in range(5)]\n",
    "\n",
    "# random_numbers.sort()\n",
    "\n",
    "# print(\"Sorted random numbers:\", random_numbers)"
   ]
  },
  {
   "cell_type": "code",
   "execution_count": 60,
   "id": "dc51e48c",
   "metadata": {},
   "outputs": [
    {
     "name": "stdout",
     "output_type": "stream",
     "text": [
      "date\n"
     ]
    }
   ],
   "source": [
    "#28.Write a code to create a list with strings and print the element at the third index.\n",
    "words = [\"apple\", \"banana\", \"cherry\", \"date\", \"elderberry\"]\n",
    "print(words[3])"
   ]
  },
  {
   "cell_type": "code",
   "execution_count": 62,
   "id": "e6994e92",
   "metadata": {},
   "outputs": [
    {
     "name": "stdout",
     "output_type": "stream",
     "text": [
      "{'a': 1, 'b': 2, 'c': 3, 'd': 4}\n"
     ]
    }
   ],
   "source": [
    "#29.Write a code to combine two dictionaries into one and print the result.\n",
    "dict1 = {'a': 1, 'b': 2}\n",
    "dict2 = {'c': 3, 'd': 4}\n",
    "\n",
    "combined_dict = {**dict1, **dict2}\n",
    "\n",
    "print(combined_dict)"
   ]
  },
  {
   "cell_type": "code",
   "execution_count": 63,
   "id": "b5e7dc8f",
   "metadata": {},
   "outputs": [
    {
     "name": "stdout",
     "output_type": "stream",
     "text": [
      "{'banana', 'orange', 'apple'}\n"
     ]
    }
   ],
   "source": [
    "#30.Write a code to convert a list of strings into a set.\n",
    "fruits = [\"apple\", \"banana\", \"apple\", \"orange\"]\n",
    "\n",
    "fruit_set = set(fruits)\n",
    "\n",
    "print(fruit_set)"
   ]
  },
  {
   "cell_type": "code",
   "execution_count": null,
   "id": "ee4ff5da",
   "metadata": {},
   "outputs": [],
   "source": []
  }
 ],
 "metadata": {
  "kernelspec": {
   "display_name": "Python 3 (ipykernel)",
   "language": "python",
   "name": "python3"
  },
  "language_info": {
   "codemirror_mode": {
    "name": "ipython",
    "version": 3
   },
   "file_extension": ".py",
   "mimetype": "text/x-python",
   "name": "python",
   "nbconvert_exporter": "python",
   "pygments_lexer": "ipython3",
   "version": "3.9.7"
  }
 },
 "nbformat": 4,
 "nbformat_minor": 5
}
